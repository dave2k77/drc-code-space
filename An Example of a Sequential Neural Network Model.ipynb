{
 "cells": [
  {
   "cell_type": "markdown",
   "id": "98e40fb7",
   "metadata": {},
   "source": [
    "### Problem Statement"
   ]
  },
  {
   "cell_type": "markdown",
   "id": "90c4b8e9",
   "metadata": {},
   "source": [
    "An experimental drug was tested on individuals from ages 13 to 100 in a clinical trial. The trial had 2100 participants. Half were under 65 years old, and the other half were over 65 years old. Around 95% of the participants 65 or older experienced side-effects from the drug and 95% of those under 65 experienced no side-effects at all."
   ]
  },
  {
   "cell_type": "markdown",
   "id": "14417c57",
   "metadata": {},
   "source": [
    "### Task"
   ]
  },
  {
   "cell_type": "markdown",
   "id": "5787c54a",
   "metadata": {},
   "source": [
    "Design a sequential neural network model that correctly predicts whether a partcipant is likely to experience side-effects from the experimental drug."
   ]
  },
  {
   "cell_type": "markdown",
   "id": "a01e1cc8",
   "metadata": {},
   "source": [
    "### Data Preparation and Preprocessing"
   ]
  },
  {
   "cell_type": "code",
   "execution_count": 1,
   "id": "5feb04d3",
   "metadata": {},
   "outputs": [],
   "source": [
    "import numpy as np\n",
    "from random import randint\n",
    "from sklearn.utils import shuffle\n",
    "from sklearn.preprocessing import MinMaxScaler"
   ]
  },
  {
   "cell_type": "code",
   "execution_count": 2,
   "id": "76a14e80",
   "metadata": {},
   "outputs": [],
   "source": [
    "train_labels = []\n",
    "train_samples = []\n",
    "test_labels = []\n",
    "test_samples = []"
   ]
  },
  {
   "cell_type": "markdown",
   "id": "10f7df41",
   "metadata": {},
   "source": [
    "#### Creating the training dataset"
   ]
  },
  {
   "cell_type": "code",
   "execution_count": 3,
   "id": "ed794171",
   "metadata": {},
   "outputs": [],
   "source": [
    "for i in range(50):\n",
    "    # data for participants younger than 65 years old who experienced side-effects (~5%)\n",
    "    less_than_65 = randint(13, 64)\n",
    "    train_samples.append(less_than_65)\n",
    "    train_labels.append(1) # 1 for experienced side-effects\n",
    "    \n",
    "    # data for older participants with no side-effects (~5%)\n",
    "    at_least_65 = randint(65, 100)\n",
    "    train_samples.append(at_least_65)\n",
    "    train_labels.append(0) # 0 for no side-effects\n",
    "    \n",
    "for i in range(1000):\n",
    "    # data for participants younger than 65 years old who experienced no side-effects (~95%)\n",
    "    less_than_65 = randint(13, 64)\n",
    "    train_samples.append(less_than_65)\n",
    "    train_labels.append(0)\n",
    "    \n",
    "    # data for older participants with side-effects (~95%)\n",
    "    at_least_65 = randint(65, 100)\n",
    "    train_samples.append(at_least_65)\n",
    "    train_labels.append(1)"
   ]
  },
  {
   "cell_type": "code",
   "execution_count": 4,
   "id": "edc21277",
   "metadata": {},
   "outputs": [],
   "source": [
    "train_labels = np.array(train_labels)\n",
    "train_samples = np.array(train_samples)\n",
    "train_labels, train_samples = shuffle(train_labels, train_samples)"
   ]
  },
  {
   "cell_type": "code",
   "execution_count": 5,
   "id": "152ea213",
   "metadata": {},
   "outputs": [],
   "source": [
    "scaler = MinMaxScaler(feature_range=(0,1))\n",
    "scaled_train_samples = scaler.fit_transform(train_samples.reshape(-1,1))"
   ]
  },
  {
   "cell_type": "code",
   "execution_count": 6,
   "id": "993fc139",
   "metadata": {},
   "outputs": [],
   "source": [
    "for i in range(10):\n",
    "    # data for participants younger than 65 years old who experienced side-effects (~5%)\n",
    "    less_than_65 = randint(13, 64)\n",
    "    test_samples.append(less_than_65)\n",
    "    test_labels.append(1) # 1 for experienced side-effects\n",
    "    \n",
    "    # data for older participants with no side-effects (~5%)\n",
    "    at_least_65 = randint(65, 100)\n",
    "    test_samples.append(at_least_65)\n",
    "    test_labels.append(0) # 0 for no side-effects\n",
    "    \n",
    "for i in range(200):\n",
    "    # data for participants younger than 65 years old who experienced no side-effects (~95%)\n",
    "    less_than_65 = randint(13, 64)\n",
    "    test_samples.append(less_than_65)\n",
    "    test_labels.append(0)\n",
    "    \n",
    "    # data for older participants with side-effects (~95%)\n",
    "    at_least_65 = randint(65, 100)\n",
    "    test_samples.append(at_least_65)\n",
    "    test_labels.append(1)"
   ]
  },
  {
   "cell_type": "code",
   "execution_count": 7,
   "id": "b2a68040",
   "metadata": {},
   "outputs": [],
   "source": [
    "test_labels = np.array(test_labels)\n",
    "test_samples = np.array(test_samples)\n",
    "test_labels, test_samples = shuffle(test_labels, test_samples)"
   ]
  },
  {
   "cell_type": "code",
   "execution_count": 8,
   "id": "14f08cf6",
   "metadata": {},
   "outputs": [],
   "source": [
    "scaler = MinMaxScaler(feature_range=(0,1))\n",
    "scaled_test_samples = scaler.fit_transform(test_samples.reshape(-1,1))"
   ]
  },
  {
   "cell_type": "code",
   "execution_count": 9,
   "id": "44ad3143",
   "metadata": {},
   "outputs": [
    {
     "name": "stderr",
     "output_type": "stream",
     "text": [
      "2022-02-15 01:58:34.128189: W tensorflow/stream_executor/platform/default/dso_loader.cc:64] Could not load dynamic library 'libcudart.so.11.0'; dlerror: libcudart.so.11.0: cannot open shared object file: No such file or directory; LD_LIBRARY_PATH: /home/davianc/HADOOP/lib/native:\n",
      "2022-02-15 01:58:34.128216: I tensorflow/stream_executor/cuda/cudart_stub.cc:29] Ignore above cudart dlerror if you do not have a GPU set up on your machine.\n"
     ]
    }
   ],
   "source": [
    "import tensorflow as tf\n",
    "from tensorflow import keras\n",
    "from tensorflow.keras.models import Sequential\n",
    "from tensorflow.keras.layers import Activation, Dense\n",
    "from tensorflow.keras.optimizers import Adam\n",
    "from tensorflow.keras.metrics import categorical_crossentropy"
   ]
  },
  {
   "cell_type": "code",
   "execution_count": 10,
   "id": "d3c353be",
   "metadata": {},
   "outputs": [
    {
     "name": "stderr",
     "output_type": "stream",
     "text": [
      "2022-02-15 01:58:35.807494: W tensorflow/stream_executor/platform/default/dso_loader.cc:64] Could not load dynamic library 'libcuda.so.1'; dlerror: libcuda.so.1: cannot open shared object file: No such file or directory; LD_LIBRARY_PATH: /home/davianc/HADOOP/lib/native:\n",
      "2022-02-15 01:58:35.807519: W tensorflow/stream_executor/cuda/cuda_driver.cc:269] failed call to cuInit: UNKNOWN ERROR (303)\n",
      "2022-02-15 01:58:35.807537: I tensorflow/stream_executor/cuda/cuda_diagnostics.cc:156] kernel driver does not appear to be running on this host (drc-02): /proc/driver/nvidia/version does not exist\n",
      "2022-02-15 01:58:35.807722: I tensorflow/core/platform/cpu_feature_guard.cc:151] This TensorFlow binary is optimized with oneAPI Deep Neural Network Library (oneDNN) to use the following CPU instructions in performance-critical operations:  AVX2 FMA\n",
      "To enable them in other operations, rebuild TensorFlow with the appropriate compiler flags.\n"
     ]
    }
   ],
   "source": [
    "model = Sequential([\n",
    "    Dense(units=16, input_shape=(1,), activation='relu'),\n",
    "    Dense(units=32, activation='relu'),\n",
    "    Dense(units=2, activation='softmax'),\n",
    "])\n",
    "\n",
    "model.compile(optimizer=Adam(learning_rate=0.0001),\n",
    "             loss='sparse_categorical_crossentropy',\n",
    "             metrics=['accuracy'])"
   ]
  },
  {
   "cell_type": "code",
   "execution_count": 11,
   "id": "1bddeb4c",
   "metadata": {},
   "outputs": [
    {
     "name": "stdout",
     "output_type": "stream",
     "text": [
      "Model: \"sequential\"\n",
      "_________________________________________________________________\n",
      " Layer (type)                Output Shape              Param #   \n",
      "=================================================================\n",
      " dense (Dense)               (None, 16)                32        \n",
      "                                                                 \n",
      " dense_1 (Dense)             (None, 32)                544       \n",
      "                                                                 \n",
      " dense_2 (Dense)             (None, 2)                 66        \n",
      "                                                                 \n",
      "=================================================================\n",
      "Total params: 642\n",
      "Trainable params: 642\n",
      "Non-trainable params: 0\n",
      "_________________________________________________________________\n"
     ]
    }
   ],
   "source": [
    "model.summary()"
   ]
  },
  {
   "cell_type": "code",
   "execution_count": 12,
   "id": "3412a902",
   "metadata": {},
   "outputs": [
    {
     "name": "stdout",
     "output_type": "stream",
     "text": [
      "Epoch 1/30\n",
      "147/147 - 1s - loss: 0.6900 - accuracy: 0.4789 - val_loss: 0.6845 - val_accuracy: 0.5238 - 705ms/epoch - 5ms/step\n",
      "Epoch 2/30\n",
      "147/147 - 0s - loss: 0.6803 - accuracy: 0.5469 - val_loss: 0.6746 - val_accuracy: 0.5841 - 190ms/epoch - 1ms/step\n",
      "Epoch 3/30\n",
      "147/147 - 0s - loss: 0.6701 - accuracy: 0.6000 - val_loss: 0.6615 - val_accuracy: 0.6683 - 182ms/epoch - 1ms/step\n",
      "Epoch 4/30\n",
      "147/147 - 0s - loss: 0.6529 - accuracy: 0.6844 - val_loss: 0.6362 - val_accuracy: 0.7778 - 180ms/epoch - 1ms/step\n",
      "Epoch 5/30\n",
      "147/147 - 0s - loss: 0.6261 - accuracy: 0.7823 - val_loss: 0.6094 - val_accuracy: 0.8317 - 175ms/epoch - 1ms/step\n",
      "Epoch 6/30\n",
      "147/147 - 0s - loss: 0.6038 - accuracy: 0.8041 - val_loss: 0.5880 - val_accuracy: 0.8413 - 174ms/epoch - 1ms/step\n",
      "Epoch 7/30\n",
      "147/147 - 0s - loss: 0.5829 - accuracy: 0.8170 - val_loss: 0.5655 - val_accuracy: 0.8492 - 179ms/epoch - 1ms/step\n",
      "Epoch 8/30\n",
      "147/147 - 0s - loss: 0.5612 - accuracy: 0.8272 - val_loss: 0.5424 - val_accuracy: 0.8714 - 173ms/epoch - 1ms/step\n",
      "Epoch 9/30\n",
      "147/147 - 0s - loss: 0.5398 - accuracy: 0.8551 - val_loss: 0.5200 - val_accuracy: 0.8810 - 183ms/epoch - 1ms/step\n",
      "Epoch 10/30\n",
      "147/147 - 0s - loss: 0.5189 - accuracy: 0.8605 - val_loss: 0.4981 - val_accuracy: 0.8857 - 178ms/epoch - 1ms/step\n",
      "Epoch 11/30\n",
      "147/147 - 0s - loss: 0.4986 - accuracy: 0.8714 - val_loss: 0.4770 - val_accuracy: 0.8889 - 179ms/epoch - 1ms/step\n",
      "Epoch 12/30\n",
      "147/147 - 0s - loss: 0.4789 - accuracy: 0.8796 - val_loss: 0.4564 - val_accuracy: 0.8921 - 180ms/epoch - 1ms/step\n",
      "Epoch 13/30\n",
      "147/147 - 0s - loss: 0.4603 - accuracy: 0.8796 - val_loss: 0.4370 - val_accuracy: 0.9032 - 184ms/epoch - 1ms/step\n",
      "Epoch 14/30\n",
      "147/147 - 0s - loss: 0.4427 - accuracy: 0.8925 - val_loss: 0.4184 - val_accuracy: 0.9032 - 182ms/epoch - 1ms/step\n",
      "Epoch 15/30\n",
      "147/147 - 0s - loss: 0.4261 - accuracy: 0.8939 - val_loss: 0.4012 - val_accuracy: 0.9079 - 180ms/epoch - 1ms/step\n",
      "Epoch 16/30\n",
      "147/147 - 0s - loss: 0.4109 - accuracy: 0.9020 - val_loss: 0.3859 - val_accuracy: 0.9079 - 183ms/epoch - 1ms/step\n",
      "Epoch 17/30\n",
      "147/147 - 0s - loss: 0.3971 - accuracy: 0.9048 - val_loss: 0.3714 - val_accuracy: 0.9143 - 177ms/epoch - 1ms/step\n",
      "Epoch 18/30\n",
      "147/147 - 0s - loss: 0.3843 - accuracy: 0.9048 - val_loss: 0.3582 - val_accuracy: 0.9143 - 180ms/epoch - 1ms/step\n",
      "Epoch 19/30\n",
      "147/147 - 0s - loss: 0.3729 - accuracy: 0.9054 - val_loss: 0.3461 - val_accuracy: 0.9270 - 176ms/epoch - 1ms/step\n",
      "Epoch 20/30\n",
      "147/147 - 0s - loss: 0.3626 - accuracy: 0.9102 - val_loss: 0.3351 - val_accuracy: 0.9270 - 180ms/epoch - 1ms/step\n",
      "Epoch 21/30\n",
      "147/147 - 0s - loss: 0.3534 - accuracy: 0.9116 - val_loss: 0.3253 - val_accuracy: 0.9270 - 179ms/epoch - 1ms/step\n",
      "Epoch 22/30\n",
      "147/147 - 0s - loss: 0.3453 - accuracy: 0.9122 - val_loss: 0.3164 - val_accuracy: 0.9270 - 180ms/epoch - 1ms/step\n",
      "Epoch 23/30\n",
      "147/147 - 0s - loss: 0.3377 - accuracy: 0.9150 - val_loss: 0.3083 - val_accuracy: 0.9270 - 179ms/epoch - 1ms/step\n",
      "Epoch 24/30\n",
      "147/147 - 0s - loss: 0.3312 - accuracy: 0.9156 - val_loss: 0.3017 - val_accuracy: 0.9317 - 177ms/epoch - 1ms/step\n",
      "Epoch 25/30\n",
      "147/147 - 0s - loss: 0.3253 - accuracy: 0.9177 - val_loss: 0.2947 - val_accuracy: 0.9317 - 181ms/epoch - 1ms/step\n",
      "Epoch 26/30\n",
      "147/147 - 0s - loss: 0.3200 - accuracy: 0.9190 - val_loss: 0.2887 - val_accuracy: 0.9317 - 176ms/epoch - 1ms/step\n",
      "Epoch 27/30\n",
      "147/147 - 0s - loss: 0.3153 - accuracy: 0.9190 - val_loss: 0.2835 - val_accuracy: 0.9317 - 177ms/epoch - 1ms/step\n",
      "Epoch 28/30\n",
      "147/147 - 0s - loss: 0.3110 - accuracy: 0.9190 - val_loss: 0.2786 - val_accuracy: 0.9317 - 180ms/epoch - 1ms/step\n",
      "Epoch 29/30\n",
      "147/147 - 0s - loss: 0.3073 - accuracy: 0.9211 - val_loss: 0.2741 - val_accuracy: 0.9317 - 182ms/epoch - 1ms/step\n",
      "Epoch 30/30\n",
      "147/147 - 0s - loss: 0.3037 - accuracy: 0.9184 - val_loss: 0.2704 - val_accuracy: 0.9317 - 177ms/epoch - 1ms/step\n"
     ]
    },
    {
     "data": {
      "text/plain": [
       "<keras.callbacks.History at 0x7f4b1c797d30>"
      ]
     },
     "execution_count": 12,
     "metadata": {},
     "output_type": "execute_result"
    }
   ],
   "source": [
    "model.fit(x=scaled_train_samples, y =train_labels, batch_size=10, validation_split=0.3, epochs=30, shuffle=True, verbose=2)"
   ]
  },
  {
   "cell_type": "code",
   "execution_count": 13,
   "id": "4d9bcfe2",
   "metadata": {},
   "outputs": [
    {
     "name": "stdout",
     "output_type": "stream",
     "text": [
      "42/42 - 0s - 93ms/epoch - 2ms/step\n"
     ]
    }
   ],
   "source": [
    "predictions = model.predict(x=scaled_test_samples, batch_size=10, verbose=2)"
   ]
  },
  {
   "cell_type": "code",
   "execution_count": 15,
   "id": "7cccab30",
   "metadata": {},
   "outputs": [],
   "source": [
    "rounded_predictions = np.argmax(predictions, axis=-1)"
   ]
  },
  {
   "cell_type": "code",
   "execution_count": 17,
   "id": "c8142f09",
   "metadata": {},
   "outputs": [],
   "source": [
    "%matplotlib inline\n",
    "import matplotlib.pyplot as plt\n",
    "from sklearn.metrics import confusion_matrix\n",
    "import itertools"
   ]
  },
  {
   "cell_type": "code",
   "execution_count": 18,
   "id": "96fc6779",
   "metadata": {},
   "outputs": [],
   "source": [
    "cm = confusion_matrix(y_true=test_labels, y_pred=rounded_predictions)"
   ]
  },
  {
   "cell_type": "code",
   "execution_count": 19,
   "id": "ba11cfa4",
   "metadata": {},
   "outputs": [],
   "source": [
    "def plot_confusion_matrix(cm, classes, normalize=True, title=\"Confusion Matrix\", cmap=plt.cm.Blues):\n",
    "    plt.imshow(cm, interpolation='nearest', cmap=cmap)\n",
    "    plt.title(title)\n",
    "    plt.colorbar()\n",
    "    tick_marks = np.arange(len(classes))\n",
    "    plt.xticks(tick_marks, classes)\n",
    "    plt.yticks(tick_marks, classes)\n",
    "    \n",
    "    if normalize:\n",
    "        cm .astype('float') / cm.sum(axis=1)[:, np.newaxis]\n",
    "        print(\"Normalised Confusion Matrix\")\n",
    "    else:\n",
    "        print(\"Confusion Matrix without Normalisation\")\n",
    "    print(cm)\n",
    "    \n",
    "    thresh = cm.max() / 2\n",
    "    \n",
    "    for i, j in itertools.product(range(cm.shape[0]), range(cm.shape[1])):\n",
    "        plt.text(j, i, cm[i, j], horizontalalignment=\"center\",color=\"white\" if cm[i, j] > thresh else \"black\")\n",
    "        \n",
    "    plt.tight_layout()\n",
    "    plt.ylabel(\"True Label\")\n",
    "    plt.xlabel(\"Predicted Label\")"
   ]
  },
  {
   "cell_type": "code",
   "execution_count": 20,
   "id": "9e16ee36",
   "metadata": {},
   "outputs": [
    {
     "name": "stdout",
     "output_type": "stream",
     "text": [
      "Normalised Confusion Matrix\n",
      "[[188  22]\n",
      " [ 10 200]]\n"
     ]
    },
    {
     "data": {
      "image/png": "[encoded data removed]",
      "text/plain": [
       "<Figure size 432x288 with 2 Axes>"
      ]
     },
     "metadata": {
      "needs_background": "light"
     },
     "output_type": "display_data"
    }
   ],
   "source": [
    "cm_plot_labels = ['side-effects', 'no side-effects']\n",
    "plot_confusion_matrix(cm=cm, classes=cm_plot_labels, title=\"Confusion Matrix\")"
   ]
  },
  {
   "cell_type": "markdown",
   "id": "a90b24bf",
   "metadata": {},
   "source": [
    "The confusion matrix show that our model is performing very well recording 188 True Positives and 200 True Negatives, and minimally recording only 10 and 22 False Positives and True Negatives respectively."
   ]
  },
  {
   "cell_type": "code",
   "execution_count": 21,
   "id": "40659f51",
   "metadata": {},
   "outputs": [
    {
     "name": "stderr",
     "output_type": "stream",
     "text": [
      "2022-02-15 02:06:30.052319: W tensorflow/python/util/util.cc:368] Sets are not currently considered sequences, but this may change in the future, so consider avoiding using them.\n"
     ]
    },
    {
     "name": "stdout",
     "output_type": "stream",
     "text": [
      "INFO:tensorflow:Assets written to: SeqNNModel.model/assets\n"
     ]
    }
   ],
   "source": [
    "model.save(\"SeqNNModel.model\")"
   ]
  }
 ],
 "metadata": {
  "kernelspec": {
   "display_name": "Python 3 (ipykernel)",
   "language": "python",
   "name": "python3"
  },
  "language_info": {
   "codemirror_mode": {
    "name": "ipython",
    "version": 3
   },
   "file_extension": ".py",
   "mimetype": "text/x-python",
   "name": "python",
   "nbconvert_exporter": "python",
   "pygments_lexer": "ipython3",
   "version": "3.8.8"
  }
 },
 "nbformat": 4,
 "nbformat_minor": 5
}
